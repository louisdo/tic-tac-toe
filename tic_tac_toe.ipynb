def interface(list1):
#     list1=[i for i in range (1,10)]
    for i in range (len(list1)):
        if i not in [2,5,8]:
            print(list1[i]," | ",end='')
        elif i in [2,5]:
            print(list1[i])
            print("-------------")
        else:
            print(list1[i])

def player1(list1,boo):
    if boo==True:
        print("player 1 turn: ")
        x=int(input("enter the location you want to play: "))
        while list1[x-1]=="O":
            print("that location has already been booked,please place somewhere else")
            x=int(input("enter the location you want to play: "))
        list1[x-1]="X"
        return list1
    else:
        return boo  
        
 def player2(list1,boo):
    if boo==True:
        print("player 2 turn:")
        x=int(input("enter the location you want to play: "))
        while list1[x-1]=="X":
            print("that location has already been booked,please place somewhere else")
            x=int(input("enter the location you want to play: "))
        list1[x-1]="O"
        return list1
    else:
        return boo
   
  def check_for_winner(list1):
    global boo
    global time_player1_win
    global time_player2_win
    time_player1_win=0
    time_player2_win=0
    for i in [[0,1,2],[3,4,5],[6,7,8],[0,3,6],[1,4,7],[2,5,8],[0,4,8],[2,4,6]]:
        #check for each and every possible winning move
        x,y,z=i
        if list1[x]==list1[y]==list1[z]=="X":
            print()
            print()
            print("player 1 wins")
            print()
            print()
            boo=False
            time_player1_win+=1#count no of time player 1 win because i want to see who win in a long run
            return boo
            
        elif list1[x]==list1[y]==list1[z]=="O":
            print()
            print()
            print("player 2 wins")
            print()
            print()
            boo=False
            time_player2_win+=1
            return boo
        elif [s for s in list1 if s.isdigit()]==[]:#create a new list to check if there are number in the list or not
            print()                               #if that list is empty, there is no number left-----> end of move ----> draw
            print()
            print("it is a draw")
            print()
            print()
            boo=False
            return boo
        else:
            pass
    return boo
    
  def tic_tac_toe(times):#put the whole code in function to play the game multiple time
    for j in range(times):
        list1=[str(i) for i in range(1,10)]
        global boo
        boo=True
        i=0
        while i <5 and boo==True:
            boo=check_for_winner(list1)
            interface(list1)    
            player1(list1,boo)
            boo=check_for_winner(list1)
            interface(list1)
            player2(list1,boo)
            i+=1
        print("\/\/\/\/\/\/\/\/\/\/\/\/\/\/\/\/\/\/\/\/\/\/\/\/\/\/\/\/\/\/\/\/\/")
        print("\/\/\/\/\/\/\/\/\/\/\/\/\/\/\/\/\/\/\/\/\/\/\/\/\/\/\/\/\/\/\/\/\/")
        
    if time_player1_win==time_player2_win:
        print("it is a draw")
        print("DRAW! "*5)
    elif time_player1_win>time_player2_win:
        print("player 1 win")
        print("PLAYER1! "*5)
    else:
        print("player 2 win")
        print("PLAYER2! "*5)

        
        
tic_tac_toe(1)
